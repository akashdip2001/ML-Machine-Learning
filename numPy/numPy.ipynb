{
 "cells": [
  {
   "cell_type": "markdown",
   "id": "5c7d938c-8e40-4c42-997f-dd08cb006a8d",
   "metadata": {},
   "source": [
    "# numPy\n",
    "\n",
    "#### [documentation](https://numpy.org/doc/stable/reference/)\n",
    "\n",
    "|🍭 [ML](https://www.mediafire.com/file/njc51t2ierhir85/akashdipmahapatraFreeCAD.apk/file) 🍭|🐥 [Pandas](https://akashdip2001.github.io/freecad_app/) 🐥|❌ [numPy](https://engineering-aot.github.io/custom-video-player/freecad_exam.html) ❌|\n",
    "|-------------------- |-------------------- |-------------------- |\n",
    "\n",
    "<p float=\"left\">\n",
    "  <img src=\"img/numPy_1.jpg\" width=\"100%\" />\n",
    "    <img src=\"img/numPy_2.jpg\" width=\"100%\" />\n",
    "    <img src=\"img/numPy_3.jpg\" width=\"100%\" />\n",
    "</p>"
   ]
  },
  {
   "cell_type": "code",
   "execution_count": 1,
   "id": "b9757303-d8b0-44b1-ae5e-255b4a940a13",
   "metadata": {},
   "outputs": [],
   "source": [
    "import numpy as np"
   ]
  },
  {
   "cell_type": "markdown",
   "id": "db7569b0-1feb-4cdb-813a-85ecce8d1172",
   "metadata": {},
   "source": [
    "### 1D Array [documentation](https://numpy.org/doc/stable/user/basics.creation.html)"
   ]
  },
  {
   "cell_type": "code",
   "execution_count": 2,
   "id": "21a49ca1-44fe-4f1d-9f7f-ec72996cdd96",
   "metadata": {},
   "outputs": [],
   "source": [
    "myarr = np.array([3,6,32,7])"
   ]
  },
  {
   "cell_type": "code",
   "execution_count": 3,
   "id": "81838347-97ca-4777-8aef-44f96dde58bb",
   "metadata": {},
   "outputs": [
    {
     "data": {
      "text/plain": [
       "array([ 3,  6, 32,  7])"
      ]
     },
     "execution_count": 3,
     "metadata": {},
     "output_type": "execute_result"
    }
   ],
   "source": [
    "myarr"
   ]
  },
  {
   "cell_type": "code",
   "execution_count": 4,
   "id": "3113bdf4-bb1d-406a-b626-79bfb4ad43a1",
   "metadata": {},
   "outputs": [
    {
     "data": {
      "text/plain": [
       "array([       3,        6, 32888888,        7], dtype=int32)"
      ]
     },
     "execution_count": 4,
     "metadata": {},
     "output_type": "execute_result"
    }
   ],
   "source": [
    "#myarr = np.array([3,6,32888888,7], np.int8) => ❌ Memory size < number\n",
    "myarr = np.array([3,6,32888888,7], np.int32)\n",
    "myarr"
   ]
  },
  {
   "cell_type": "code",
   "execution_count": 5,
   "id": "1ac2a1c8-4aab-4908-b1ca-a262469c5220",
   "metadata": {},
   "outputs": [
    {
     "data": {
      "text/plain": [
       "np.int32(3)"
      ]
     },
     "execution_count": 5,
     "metadata": {},
     "output_type": "execute_result"
    }
   ],
   "source": [
    "myarr[0]  #1D Array => [ ], 2D Array [ , ]"
   ]
  },
  {
   "cell_type": "markdown",
   "id": "1d985453-ac95-4a5e-b9b0-af1e2e82ce24",
   "metadata": {},
   "source": [
    "### 2D Array"
   ]
  },
  {
   "cell_type": "code",
   "execution_count": 6,
   "id": "f13a7a24-750f-4293-8b0f-36e449cebf8b",
   "metadata": {},
   "outputs": [
    {
     "data": {
      "text/plain": [
       "array([[ 3,  6, 32,  7]])"
      ]
     },
     "execution_count": 6,
     "metadata": {},
     "output_type": "execute_result"
    }
   ],
   "source": [
    "myarr = np.array([[3,6,32,7]], np.int64)\n",
    "myarr"
   ]
  },
  {
   "cell_type": "code",
   "execution_count": 7,
   "id": "322677fc-517a-4f65-93e8-89aff36e1c43",
   "metadata": {},
   "outputs": [
    {
     "data": {
      "text/plain": [
       "np.int64(6)"
      ]
     },
     "execution_count": 7,
     "metadata": {},
     "output_type": "execute_result"
    }
   ],
   "source": [
    "myarr[0,1]"
   ]
  },
  {
   "cell_type": "code",
   "execution_count": 8,
   "id": "cc36f629-fd28-4075-9a4f-3fb35079e5bc",
   "metadata": {},
   "outputs": [
    {
     "data": {
      "text/plain": [
       "dtype('int64')"
      ]
     },
     "execution_count": 8,
     "metadata": {},
     "output_type": "execute_result"
    }
   ],
   "source": [
    "myarr.dtype"
   ]
  },
  {
   "cell_type": "markdown",
   "id": "b783d3b6-b6f0-4e5a-89bc-cfd5368a2fd8",
   "metadata": {},
   "source": [
    "### Change the no in Array"
   ]
  },
  {
   "cell_type": "code",
   "execution_count": 9,
   "id": "28b17125-4849-465b-bf95-fb700effb07a",
   "metadata": {},
   "outputs": [
    {
     "data": {
      "text/plain": [
       "array([[ 3, 45, 32,  7]])"
      ]
     },
     "execution_count": 9,
     "metadata": {},
     "output_type": "execute_result"
    }
   ],
   "source": [
    "myarr[0,1] = 45\n",
    "myarr"
   ]
  },
  {
   "cell_type": "markdown",
   "id": "a90f1840-e9f2-4715-91dd-d7ddfa544e1c",
   "metadata": {},
   "source": [
    "## Array_1) Conversion from other Python structures"
   ]
  },
  {
   "cell_type": "code",
   "execution_count": 10,
   "id": "d4f866a6-4a69-478a-b50f-072f4b6bb9eb",
   "metadata": {},
   "outputs": [
    {
     "data": {
      "text/plain": [
       "array([[1, 2, 3],\n",
       "       [5, 8, 5],\n",
       "       [0, 3, 1]])"
      ]
     },
     "execution_count": 10,
     "metadata": {},
     "output_type": "execute_result"
    }
   ],
   "source": [
    "listarray = np.array([[1,2,3], [5,8,5], [0,3,1]])\n",
    "listarray"
   ]
  },
  {
   "cell_type": "code",
   "execution_count": 11,
   "id": "493ea951-52c1-4358-a35b-76ec9ec4140b",
   "metadata": {},
   "outputs": [
    {
     "data": {
      "text/plain": [
       "dtype('int64')"
      ]
     },
     "execution_count": 11,
     "metadata": {},
     "output_type": "execute_result"
    }
   ],
   "source": [
    "listarray.dtype"
   ]
  },
  {
   "cell_type": "code",
   "execution_count": 12,
   "id": "6c0a8086-6093-4d64-b288-3a5d3b365ff5",
   "metadata": {},
   "outputs": [
    {
     "data": {
      "text/plain": [
       "(3, 3)"
      ]
     },
     "execution_count": 12,
     "metadata": {},
     "output_type": "execute_result"
    }
   ],
   "source": [
    "listarray.shape"
   ]
  },
  {
   "cell_type": "code",
   "execution_count": 13,
   "id": "99965367-3dc2-4f6e-a23a-b8ecd5224221",
   "metadata": {},
   "outputs": [
    {
     "data": {
      "text/plain": [
       "9"
      ]
     },
     "execution_count": 13,
     "metadata": {},
     "output_type": "execute_result"
    }
   ],
   "source": [
    "listarray.size"
   ]
  },
  {
   "cell_type": "code",
   "execution_count": 14,
   "id": "6af34bf5-2d9f-4a1b-b0ef-bfa92b4a3886",
   "metadata": {},
   "outputs": [
    {
     "data": {
      "text/plain": [
       "array({34, 53, 23}, dtype=object)"
      ]
     },
     "execution_count": 14,
     "metadata": {},
     "output_type": "execute_result"
    }
   ],
   "source": [
    "np.array({34,23,53})    #not use Obj => use int or Float => for Mathematical cal..."
   ]
  },
  {
   "cell_type": "markdown",
   "id": "5fc39f1f-427b-4b1e-a285-e3db696114fd",
   "metadata": {},
   "source": [
    "## Array_2) Intrinsic NumPy array creation functions"
   ]
  },
  {
   "cell_type": "code",
   "execution_count": 15,
   "id": "97bf2aae-5a3f-4e81-811a-c67978d626e5",
   "metadata": {},
   "outputs": [
    {
     "data": {
      "text/plain": [
       "array([[0., 0., 0., 0., 0.],\n",
       "       [0., 0., 0., 0., 0.]])"
      ]
     },
     "execution_count": 15,
     "metadata": {},
     "output_type": "execute_result"
    }
   ],
   "source": [
    "zeros = np.zeros((2, 5))\n",
    "zeros"
   ]
  },
  {
   "cell_type": "code",
   "execution_count": 16,
   "id": "451f2d50-7333-427d-b59e-e3485f76192c",
   "metadata": {},
   "outputs": [
    {
     "name": "stdout",
     "output_type": "stream",
     "text": [
      "Data type: int64\n",
      "Shape: (3, 3)\n",
      "Size: 9\n"
     ]
    }
   ],
   "source": [
    "# 3 in 1\n",
    "print(\"Data type:\", listarray.dtype)\n",
    "print(\"Shape:\", listarray.shape)\n",
    "print(\"Size:\", listarray.size)"
   ]
  },
  {
   "cell_type": "code",
   "execution_count": 17,
   "id": "54d94435-de4c-458e-b4ca-a72d3ed2c2bc",
   "metadata": {},
   "outputs": [
    {
     "data": {
      "text/plain": [
       "array([ 0,  1,  2,  3,  4,  5,  6,  7,  8,  9, 10, 11, 12, 13, 14])"
      ]
     },
     "execution_count": 17,
     "metadata": {},
     "output_type": "execute_result"
    }
   ],
   "source": [
    "rng = np.arange(15)  #arange create => numPy array\n",
    "rng"
   ]
  },
  {
   "cell_type": "code",
   "execution_count": 18,
   "id": "a0faa094-e993-4d81-a8b8-2b751cd0ed9d",
   "metadata": {},
   "outputs": [
    {
     "data": {
      "text/plain": [
       "array([ 1.,  2.,  3.,  4.,  5.,  6.,  7.,  8.,  9., 10.])"
      ]
     },
     "execution_count": 18,
     "metadata": {},
     "output_type": "execute_result"
    }
   ],
   "source": [
    "lspace = np.linspace(1,10,10)    # 1 to 10 => total 10 equally space\n",
    "lspace"
   ]
  },
  {
   "cell_type": "code",
   "execution_count": 19,
   "id": "40259358-0bb8-40ad-af4f-c760f3023fda",
   "metadata": {},
   "outputs": [
    {
     "data": {
      "text/plain": [
       "array([ 1.        ,  6.44444444, 11.88888889, 17.33333333, 22.77777778,\n",
       "       28.22222222, 33.66666667, 39.11111111, 44.55555556, 50.        ])"
      ]
     },
     "execution_count": 19,
     "metadata": {},
     "output_type": "execute_result"
    }
   ],
   "source": [
    "lspace = np.linspace(1,50,10)   # 1 to 50 => total 10 equally space\n",
    "lspace"
   ]
  },
  {
   "cell_type": "markdown",
   "id": "6359ce05-124b-4f8d-805c-2a189fc5af8e",
   "metadata": {},
   "source": [
    "#### Empty Array"
   ]
  },
  {
   "cell_type": "code",
   "execution_count": 20,
   "id": "5f2da2be-4af0-4784-9d89-59b92fe0cc2a",
   "metadata": {},
   "outputs": [
    {
     "data": {
      "text/plain": [
       "array([[ 1.08907377e-311,  6.79453105e-313,  1.08858384e-311,\n",
       "         6.79453105e-313,  3.25959773e-310, -4.34679076e-311],\n",
       "       [ 2.75164205e-135, -5.97648350e-311,  1.08730858e+270,\n",
       "         5.43432418e+279,  6.01433264e+175,  2.79195069e-152],\n",
       "       [ 7.62873624e+228,  1.49292415e-090,  6.10935453e+223,\n",
       "         6.19637392e+223,  8.02146756e+165,  1.50761589e+161],\n",
       "       [ 6.01334642e-154,  2.43567289e-152,  3.81435356e+228,\n",
       "         8.92892664e+271,  4.77800043e+180,  6.01334515e-154]])"
      ]
     },
     "execution_count": 20,
     "metadata": {},
     "output_type": "execute_result"
    }
   ],
   "source": [
    "emp = np.empty((4,6))  # 4X6 => Random elemants\n",
    "emp"
   ]
  },
  {
   "cell_type": "markdown",
   "id": "2aa0d788-995e-49b8-a4c3-8ee626500855",
   "metadata": {},
   "source": [
    "#### Emply Array in Old place (=> Random)\n",
    "##### np.empty_like([Old_Array-Name])"
   ]
  },
  {
   "cell_type": "code",
   "execution_count": 21,
   "id": "30842500-440a-4cec-ac80-f9d5f7aec9a1",
   "metadata": {},
   "outputs": [
    {
     "data": {
      "text/plain": [
       "array([ 1.        ,  6.44444444, 11.88888889, 17.33333333, 22.77777778,\n",
       "       28.22222222, 33.66666667, 39.11111111, 44.55555556, 50.        ])"
      ]
     },
     "execution_count": 21,
     "metadata": {},
     "output_type": "execute_result"
    }
   ],
   "source": [
    "emp_like = np.empty_like(lspace)\n",
    "emp_like"
   ]
  },
  {
   "cell_type": "markdown",
   "id": "5c266b6b-66d5-4fed-9067-2c2a849ce3b7",
   "metadata": {},
   "source": [
    "#### identity Matrix"
   ]
  },
  {
   "cell_type": "code",
   "execution_count": 22,
   "id": "e6bb5c5b-813d-45d2-8ebc-7b45ec77946a",
   "metadata": {},
   "outputs": [
    {
     "data": {
      "text/plain": [
       "array([[1., 0., 0.],\n",
       "       [0., 1., 0.],\n",
       "       [0., 0., 1.]])"
      ]
     },
     "execution_count": 22,
     "metadata": {},
     "output_type": "execute_result"
    }
   ],
   "source": [
    "ide = np.identity(3)\n",
    "ide"
   ]
  },
  {
   "cell_type": "code",
   "execution_count": 23,
   "id": "129dba59-fbb2-450c-9c17-6ea43017595e",
   "metadata": {},
   "outputs": [
    {
     "data": {
      "text/plain": [
       "array([[1., 0., 0., ..., 0., 0., 0.],\n",
       "       [0., 1., 0., ..., 0., 0., 0.],\n",
       "       [0., 0., 1., ..., 0., 0., 0.],\n",
       "       ...,\n",
       "       [0., 0., 0., ..., 1., 0., 0.],\n",
       "       [0., 0., 0., ..., 0., 1., 0.],\n",
       "       [0., 0., 0., ..., 0., 0., 1.]])"
      ]
     },
     "execution_count": 23,
     "metadata": {},
     "output_type": "execute_result"
    }
   ],
   "source": [
    "ide = np.identity(45)\n",
    "ide"
   ]
  },
  {
   "cell_type": "code",
   "execution_count": 24,
   "id": "c6ecd5b8-709b-43e6-aae9-e02122d30568",
   "metadata": {},
   "outputs": [
    {
     "data": {
      "text/plain": [
       "(45, 45)"
      ]
     },
     "execution_count": 24,
     "metadata": {},
     "output_type": "execute_result"
    }
   ],
   "source": [
    "ide.shape"
   ]
  },
  {
   "cell_type": "markdown",
   "id": "7012edb9-139b-4b13-9659-b96bd4800e9b",
   "metadata": {},
   "source": [
    "### ReShape (if possible)"
   ]
  },
  {
   "cell_type": "code",
   "execution_count": 25,
   "id": "f135f22b-3b83-4b62-8955-523adde306b2",
   "metadata": {},
   "outputs": [
    {
     "data": {
      "text/plain": [
       "array([ 0,  1,  2,  3,  4,  5,  6,  7,  8,  9, 10, 11, 12, 13, 14, 15, 16,\n",
       "       17, 18, 19, 20, 21, 22, 23, 24, 25, 26, 27, 28, 29, 30, 31, 32])"
      ]
     },
     "execution_count": 25,
     "metadata": {},
     "output_type": "execute_result"
    }
   ],
   "source": [
    "arr = np.arange(33)\n",
    "arr"
   ]
  },
  {
   "cell_type": "code",
   "execution_count": 26,
   "id": "4e5beeef-a064-4b4b-9dfb-0772aea7b404",
   "metadata": {},
   "outputs": [
    {
     "data": {
      "text/plain": [
       "array([[ 0,  1,  2],\n",
       "       [ 3,  4,  5],\n",
       "       [ 6,  7,  8],\n",
       "       [ 9, 10, 11],\n",
       "       [12, 13, 14],\n",
       "       [15, 16, 17],\n",
       "       [18, 19, 20],\n",
       "       [21, 22, 23],\n",
       "       [24, 25, 26],\n",
       "       [27, 28, 29],\n",
       "       [30, 31, 32]])"
      ]
     },
     "execution_count": 26,
     "metadata": {},
     "output_type": "execute_result"
    }
   ],
   "source": [
    "arr.reshape(11, 3)"
   ]
  },
  {
   "cell_type": "code",
   "execution_count": 27,
   "id": "389fe433-a8b0-448b-b111-867d04a58a91",
   "metadata": {},
   "outputs": [
    {
     "data": {
      "text/plain": [
       "array([[ 0,  1,  2,  3,  4,  5,  6,  7,  8,  9, 10],\n",
       "       [11, 12, 13, 14, 15, 16, 17, 18, 19, 20, 21],\n",
       "       [22, 23, 24, 25, 26, 27, 28, 29, 30, 31, 32]])"
      ]
     },
     "execution_count": 27,
     "metadata": {},
     "output_type": "execute_result"
    }
   ],
   "source": [
    "arr.reshape(3, 11)"
   ]
  },
  {
   "cell_type": "markdown",
   "id": "b1ce520d-de77-4487-a59b-c3ecb035242b",
   "metadata": {},
   "source": [
    "# But"
   ]
  },
  {
   "cell_type": "markdown",
   "id": "2576e4b7-4574-4dfe-ae79-4c74f47341aa",
   "metadata": {},
   "source": [
    "arr.reshape(3, 10) ❌"
   ]
  },
  {
   "cell_type": "markdown",
   "id": "1a44ae2d-25f7-4546-a39d-b4f816c7beb9",
   "metadata": {},
   "source": [
    "### Ravel , 2D => 1D Array"
   ]
  },
  {
   "cell_type": "code",
   "execution_count": 28,
   "id": "2d0a351b-3990-438b-be9b-11e6902d242c",
   "metadata": {},
   "outputs": [
    {
     "data": {
      "text/plain": [
       "array([[ 0,  1,  2,  3,  4,  5,  6,  7,  8,  9, 10],\n",
       "       [11, 12, 13, 14, 15, 16, 17, 18, 19, 20, 21],\n",
       "       [22, 23, 24, 25, 26, 27, 28, 29, 30, 31, 32]])"
      ]
     },
     "execution_count": 28,
     "metadata": {},
     "output_type": "execute_result"
    }
   ],
   "source": [
    "arr = arr.reshape(3, 11)\n",
    "arr"
   ]
  },
  {
   "cell_type": "code",
   "execution_count": 29,
   "id": "454c9558-087a-444e-ad1c-0bd3e762506e",
   "metadata": {},
   "outputs": [
    {
     "data": {
      "text/plain": [
       "(3, 11)"
      ]
     },
     "execution_count": 29,
     "metadata": {},
     "output_type": "execute_result"
    }
   ],
   "source": [
    "arr.shape"
   ]
  },
  {
   "cell_type": "code",
   "execution_count": 30,
   "id": "ff3922d7-3f38-41a4-aff8-234b65f8d530",
   "metadata": {},
   "outputs": [
    {
     "data": {
      "text/plain": [
       "array([ 0,  1,  2,  3,  4,  5,  6,  7,  8,  9, 10, 11, 12, 13, 14, 15, 16,\n",
       "       17, 18, 19, 20, 21, 22, 23, 24, 25, 26, 27, 28, 29, 30, 31, 32])"
      ]
     },
     "execution_count": 30,
     "metadata": {},
     "output_type": "execute_result"
    }
   ],
   "source": [
    "arr = arr.ravel()\n",
    "arr"
   ]
  },
  {
   "cell_type": "code",
   "execution_count": 31,
   "id": "5d4faa2a-5d41-4209-8312-371b05242e04",
   "metadata": {},
   "outputs": [
    {
     "data": {
      "text/plain": [
       "(33,)"
      ]
     },
     "execution_count": 31,
     "metadata": {},
     "output_type": "execute_result"
    }
   ],
   "source": [
    "arr.shape"
   ]
  },
  {
   "cell_type": "markdown",
   "id": "68cfa9ab-6f92-4e01-8296-fd6904bb82db",
   "metadata": {},
   "source": [
    "# Theory\n",
    "\n",
    "<p float=\"left\">\n",
    "    <img src=\"img/numPy_4.jpg\" width=\"100%\" />\n",
    "</p>"
   ]
  },
  {
   "cell_type": "code",
   "execution_count": 32,
   "id": "4066bfcd-74d0-4d61-993c-1191638dc55e",
   "metadata": {},
   "outputs": [],
   "source": [
    "x = [[1,2,3], [4,5,6], [7,1,0]]"
   ]
  },
  {
   "cell_type": "code",
   "execution_count": 33,
   "id": "6635ae90-43ad-4378-92d5-58dd0ee2da99",
   "metadata": {},
   "outputs": [
    {
     "data": {
      "text/plain": [
       "array([[1, 2, 3],\n",
       "       [4, 5, 6],\n",
       "       [7, 1, 0]])"
      ]
     },
     "execution_count": 33,
     "metadata": {},
     "output_type": "execute_result"
    }
   ],
   "source": [
    "ar = np.array(x)\n",
    "ar"
   ]
  },
  {
   "cell_type": "markdown",
   "id": "f9c64f89-a69f-4e34-85f3-1efe5dc6d31b",
   "metadata": {},
   "source": [
    "### Sum"
   ]
  },
  {
   "cell_type": "code",
   "execution_count": 34,
   "id": "60fd2338-ed57-4c87-b67f-1b3662a02224",
   "metadata": {},
   "outputs": [
    {
     "data": {
      "text/plain": [
       "array([12,  8,  9])"
      ]
     },
     "execution_count": 34,
     "metadata": {},
     "output_type": "execute_result"
    }
   ],
   "source": [
    "ar.sum(axis=0)"
   ]
  },
  {
   "cell_type": "code",
   "execution_count": 35,
   "id": "ba8fc7d6-3769-4ea8-842d-8f8e3cafef54",
   "metadata": {},
   "outputs": [
    {
     "data": {
      "text/plain": [
       "array([ 6, 15,  8])"
      ]
     },
     "execution_count": 35,
     "metadata": {},
     "output_type": "execute_result"
    }
   ],
   "source": [
    "ar.sum(axis=1)"
   ]
  },
  {
   "cell_type": "markdown",
   "id": "272f066a-639d-410c-b000-e89e53416dfe",
   "metadata": {},
   "source": [
    "### Transpose"
   ]
  },
  {
   "cell_type": "code",
   "execution_count": 36,
   "id": "4ffb75d9-ab92-40d9-ab42-f93096f1fbd5",
   "metadata": {},
   "outputs": [
    {
     "data": {
      "text/plain": [
       "array([[1, 4, 7],\n",
       "       [2, 5, 1],\n",
       "       [3, 6, 0]])"
      ]
     },
     "execution_count": 36,
     "metadata": {},
     "output_type": "execute_result"
    }
   ],
   "source": [
    "ar.T"
   ]
  },
  {
   "cell_type": "markdown",
   "id": "15cd198a-4808-44d8-ae8f-9ef20a42b2f8",
   "metadata": {},
   "source": [
    "### flat"
   ]
  },
  {
   "cell_type": "code",
   "execution_count": 37,
   "id": "49f9b4ab-ee4a-4868-aaef-e31cedead649",
   "metadata": {},
   "outputs": [
    {
     "data": {
      "text/plain": [
       "<numpy.flatiter at 0x1789ce4c2f0>"
      ]
     },
     "execution_count": 37,
     "metadata": {},
     "output_type": "execute_result"
    }
   ],
   "source": [
    "ar.flat"
   ]
  },
  {
   "cell_type": "code",
   "execution_count": 38,
   "id": "32cbba6e-7c78-41ac-a9be-fa19dc7a8243",
   "metadata": {},
   "outputs": [
    {
     "name": "stdout",
     "output_type": "stream",
     "text": [
      "1\n",
      "2\n",
      "3\n",
      "4\n",
      "5\n",
      "6\n",
      "7\n",
      "1\n",
      "0\n"
     ]
    }
   ],
   "source": [
    "for item in ar.flat:\n",
    "    print(item)"
   ]
  },
  {
   "cell_type": "code",
   "execution_count": 39,
   "id": "3ad570ab-37de-4884-921e-b6bf8f79e18d",
   "metadata": {},
   "outputs": [
    {
     "data": {
      "text/plain": [
       "2"
      ]
     },
     "execution_count": 39,
     "metadata": {},
     "output_type": "execute_result"
    }
   ],
   "source": [
    "ar.ndim  # no of Dinension"
   ]
  },
  {
   "cell_type": "code",
   "execution_count": 40,
   "id": "11d52891-3f07-4503-a947-496268c52597",
   "metadata": {},
   "outputs": [
    {
     "data": {
      "text/plain": [
       "9"
      ]
     },
     "execution_count": 40,
     "metadata": {},
     "output_type": "execute_result"
    }
   ],
   "source": [
    "ar.size"
   ]
  },
  {
   "cell_type": "code",
   "execution_count": 41,
   "id": "47ea0554-f078-4e23-b9c6-cc64977a7d4f",
   "metadata": {},
   "outputs": [
    {
     "data": {
      "text/plain": [
       "72"
      ]
     },
     "execution_count": 41,
     "metadata": {},
     "output_type": "execute_result"
    }
   ],
   "source": [
    "ar.nbytes # Total bite consumes"
   ]
  },
  {
   "cell_type": "markdown",
   "id": "3c5b260a-4a40-4979-8d1b-d291aad913cd",
   "metadata": {},
   "source": [
    "#### Max - Min in Array"
   ]
  },
  {
   "cell_type": "code",
   "execution_count": 42,
   "id": "53bc6df4-c14b-4ca8-9f15-89707bf91686",
   "metadata": {},
   "outputs": [],
   "source": [
    "one = np.array([1,2,4,888,2]) # Create a 1D Array"
   ]
  },
  {
   "cell_type": "code",
   "execution_count": 43,
   "id": "c3279144-bd21-4c69-bc9d-356fda4bdb46",
   "metadata": {},
   "outputs": [
    {
     "data": {
      "text/plain": [
       "np.int64(3)"
      ]
     },
     "execution_count": 43,
     "metadata": {},
     "output_type": "execute_result"
    }
   ],
   "source": [
    "one.argmax()"
   ]
  },
  {
   "cell_type": "code",
   "execution_count": 44,
   "id": "b028d5af-218d-4542-8059-1b95a893efdd",
   "metadata": {},
   "outputs": [
    {
     "data": {
      "text/plain": [
       "np.int64(0)"
      ]
     },
     "execution_count": 44,
     "metadata": {},
     "output_type": "execute_result"
    }
   ],
   "source": [
    "one.argmin()"
   ]
  },
  {
   "cell_type": "code",
   "execution_count": 45,
   "id": "d381fb61-6462-4d22-9449-5ac5966c869b",
   "metadata": {},
   "outputs": [
    {
     "data": {
      "text/plain": [
       "array([0, 1, 4, 2, 3])"
      ]
     },
     "execution_count": 45,
     "metadata": {},
     "output_type": "execute_result"
    }
   ],
   "source": [
    "one.argsort() # Max => Min"
   ]
  },
  {
   "cell_type": "code",
   "execution_count": 46,
   "id": "e4d6a7b4-4a27-4378-8b12-8d5d65dfb3f4",
   "metadata": {},
   "outputs": [
    {
     "data": {
      "text/plain": [
       "array([[1, 2, 3],\n",
       "       [4, 5, 6],\n",
       "       [7, 1, 0]])"
      ]
     },
     "execution_count": 46,
     "metadata": {},
     "output_type": "execute_result"
    }
   ],
   "source": [
    "ar"
   ]
  },
  {
   "cell_type": "code",
   "execution_count": 47,
   "id": "0a0701cf-0745-4620-87de-6c9a7a2b73e2",
   "metadata": {},
   "outputs": [
    {
     "data": {
      "text/plain": [
       "np.int64(6)"
      ]
     },
     "execution_count": 47,
     "metadata": {},
     "output_type": "execute_result"
    }
   ],
   "source": [
    "ar.argmax()  # Max value in the 6th place"
   ]
  },
  {
   "cell_type": "code",
   "execution_count": 48,
   "id": "0ca4adfb-8735-47da-81ba-e36f0d8d51af",
   "metadata": {},
   "outputs": [
    {
     "data": {
      "text/plain": [
       "np.int64(8)"
      ]
     },
     "execution_count": 48,
     "metadata": {},
     "output_type": "execute_result"
    }
   ],
   "source": [
    "ar.argmin()"
   ]
  },
  {
   "cell_type": "code",
   "execution_count": 49,
   "id": "3ae38777-6bb0-44ac-9510-d263b44ca605",
   "metadata": {},
   "outputs": [
    {
     "data": {
      "text/plain": [
       "array([2, 1, 1])"
      ]
     },
     "execution_count": 49,
     "metadata": {},
     "output_type": "execute_result"
    }
   ],
   "source": [
    "ar.argmax(axis=0)  # Max elimants in every Columns"
   ]
  },
  {
   "cell_type": "code",
   "execution_count": 50,
   "id": "a345c8c9-0dad-47bb-bb64-56bb8109fde3",
   "metadata": {},
   "outputs": [
    {
     "data": {
      "text/plain": [
       "array([2, 2, 0])"
      ]
     },
     "execution_count": 50,
     "metadata": {},
     "output_type": "execute_result"
    }
   ],
   "source": [
    "ar.argmax(axis=1) # Max elements in every Row"
   ]
  },
  {
   "cell_type": "code",
   "execution_count": 51,
   "id": "9ab789da-ee97-4289-87a7-426e602f66bf",
   "metadata": {},
   "outputs": [
    {
     "data": {
      "text/plain": [
       "array([[0, 2, 2],\n",
       "       [1, 0, 0],\n",
       "       [2, 1, 1]])"
      ]
     },
     "execution_count": 51,
     "metadata": {},
     "output_type": "execute_result"
    }
   ],
   "source": [
    "ar.argsort(axis=0)  # Max => Min elimants in every Columns"
   ]
  },
  {
   "cell_type": "code",
   "execution_count": 52,
   "id": "742acca1-28ea-485e-933b-ecb7d6998d39",
   "metadata": {},
   "outputs": [
    {
     "data": {
      "text/plain": [
       "array([[0, 1, 2],\n",
       "       [0, 1, 2],\n",
       "       [2, 1, 0]])"
      ]
     },
     "execution_count": 52,
     "metadata": {},
     "output_type": "execute_result"
    }
   ],
   "source": [
    "ar.argsort(axis=1)  # Min => Max elimants in every Columns"
   ]
  },
  {
   "cell_type": "markdown",
   "id": "2f45fb16-964f-4d93-bc42-c0b24465fe73",
   "metadata": {},
   "source": [
    "---"
   ]
  },
  {
   "cell_type": "code",
   "execution_count": 53,
   "id": "28b6a598-5bfd-46e2-a81e-c12d39dc79c1",
   "metadata": {},
   "outputs": [
    {
     "data": {
      "text/plain": [
       "array([1, 2, 3, 4, 5, 6, 7, 1, 0])"
      ]
     },
     "execution_count": 53,
     "metadata": {},
     "output_type": "execute_result"
    }
   ],
   "source": [
    "ar.ravel()"
   ]
  },
  {
   "cell_type": "code",
   "execution_count": 54,
   "id": "e87522ae-7e45-4072-8062-2d0c0eabfc3d",
   "metadata": {},
   "outputs": [
    {
     "data": {
      "text/plain": [
       "array([[1],\n",
       "       [2],\n",
       "       [3],\n",
       "       [4],\n",
       "       [5],\n",
       "       [6],\n",
       "       [7],\n",
       "       [1],\n",
       "       [0]])"
      ]
     },
     "execution_count": 54,
     "metadata": {},
     "output_type": "execute_result"
    }
   ],
   "source": [
    "ar.reshape(9, 1 )"
   ]
  },
  {
   "cell_type": "code",
   "execution_count": 55,
   "id": "3b7cd2da-3d5c-4cdb-8cc8-4719ce13337a",
   "metadata": {},
   "outputs": [
    {
     "data": {
      "text/plain": [
       "array([1, 2, 3, 4, 5, 6, 7, 1, 0])"
      ]
     },
     "execution_count": 55,
     "metadata": {},
     "output_type": "execute_result"
    }
   ],
   "source": [
    "ar.reshape(9,)"
   ]
  },
  {
   "cell_type": "markdown",
   "id": "eb0f8266-9c42-4a8a-8528-cec237a90f11",
   "metadata": {},
   "source": [
    "# Sum of 2 Array"
   ]
  },
  {
   "cell_type": "code",
   "execution_count": 56,
   "id": "430be8b3-d8e5-48e7-8a8a-d3be298333ae",
   "metadata": {},
   "outputs": [
    {
     "data": {
      "text/plain": [
       "array([[1, 2, 3],\n",
       "       [4, 5, 6],\n",
       "       [7, 1, 0]])"
      ]
     },
     "execution_count": 56,
     "metadata": {},
     "output_type": "execute_result"
    }
   ],
   "source": [
    "ar"
   ]
  },
  {
   "cell_type": "code",
   "execution_count": 57,
   "id": "5de82c11-ad64-48e5-8c74-9eaa6540b71b",
   "metadata": {},
   "outputs": [],
   "source": [
    "ar2 = np.array([[1, 2, 1],\n",
    "              [4, 0, 6],\n",
    "              [8, 1, 0]])"
   ]
  },
  {
   "cell_type": "code",
   "execution_count": 58,
   "id": "bca0f0c1-fefd-4a95-87a2-c9ed2455bd2c",
   "metadata": {},
   "outputs": [
    {
     "data": {
      "text/plain": [
       "array([[ 2,  4,  4],\n",
       "       [ 8,  5, 12],\n",
       "       [15,  2,  0]])"
      ]
     },
     "execution_count": 58,
     "metadata": {},
     "output_type": "execute_result"
    }
   ],
   "source": [
    "ar + ar2"
   ]
  },
  {
   "cell_type": "markdown",
   "id": "c8a33d59-f767-4278-91fd-b750c0395f53",
   "metadata": {},
   "source": [
    "# But"
   ]
  },
  {
   "cell_type": "code",
   "execution_count": 59,
   "id": "6fe35703-d4cf-4fa2-b108-4a55a88f5ee8",
   "metadata": {},
   "outputs": [
    {
     "data": {
      "text/plain": [
       "[324, 34, 34, 546]"
      ]
     },
     "execution_count": 59,
     "metadata": {},
     "output_type": "execute_result"
    }
   ],
   "source": [
    "[324, 34] + [34, 546]"
   ]
  },
  {
   "cell_type": "markdown",
   "id": "1334b1dc-9c36-4077-8245-fc96a0dc6e27",
   "metadata": {},
   "source": [
    "# X"
   ]
  },
  {
   "cell_type": "code",
   "execution_count": 60,
   "id": "958d145a-d04f-415c-8536-11ccbcb2791d",
   "metadata": {},
   "outputs": [
    {
     "data": {
      "text/plain": [
       "array([[ 1,  4,  3],\n",
       "       [16,  0, 36],\n",
       "       [56,  1,  0]])"
      ]
     },
     "execution_count": 60,
     "metadata": {},
     "output_type": "execute_result"
    }
   ],
   "source": [
    "ar * ar2"
   ]
  },
  {
   "cell_type": "markdown",
   "id": "3067c6dd-8178-47b3-bcce-b991590666d2",
   "metadata": {},
   "source": [
    "# ²√"
   ]
  },
  {
   "cell_type": "code",
   "execution_count": 61,
   "id": "3c67ef78-b7e5-4b03-b652-679a4af42475",
   "metadata": {},
   "outputs": [
    {
     "data": {
      "text/plain": [
       "array([[1.        , 1.41421356, 1.73205081],\n",
       "       [2.        , 2.23606798, 2.44948974],\n",
       "       [2.64575131, 1.        , 0.        ]])"
      ]
     },
     "execution_count": 61,
     "metadata": {},
     "output_type": "execute_result"
    }
   ],
   "source": [
    "np.sqrt(ar)"
   ]
  },
  {
   "cell_type": "markdown",
   "id": "23cda35a-0d96-4d3e-ba30-7b738a8bdee6",
   "metadata": {},
   "source": [
    "# Sum"
   ]
  },
  {
   "cell_type": "code",
   "execution_count": 62,
   "id": "234c76aa-ded8-4b03-bffb-966cf2b788b4",
   "metadata": {},
   "outputs": [
    {
     "data": {
      "text/plain": [
       "np.int64(29)"
      ]
     },
     "execution_count": 62,
     "metadata": {},
     "output_type": "execute_result"
    }
   ],
   "source": [
    "ar.sum()"
   ]
  },
  {
   "cell_type": "markdown",
   "id": "112b2fb3-30e4-4e31-a441-13cb9f6a989e",
   "metadata": {},
   "source": [
    "# Max - Min"
   ]
  },
  {
   "cell_type": "code",
   "execution_count": 63,
   "id": "e94ed98e-32d5-42c8-a0be-5fee3017de37",
   "metadata": {},
   "outputs": [
    {
     "data": {
      "text/plain": [
       "np.int64(7)"
      ]
     },
     "execution_count": 63,
     "metadata": {},
     "output_type": "execute_result"
    }
   ],
   "source": [
    "ar.max()"
   ]
  },
  {
   "cell_type": "code",
   "execution_count": 64,
   "id": "7a6bbc73-adfa-45f0-b689-66540e774dfd",
   "metadata": {},
   "outputs": [
    {
     "data": {
      "text/plain": [
       "np.int64(0)"
      ]
     },
     "execution_count": 64,
     "metadata": {},
     "output_type": "execute_result"
    }
   ],
   "source": [
    "ar.min()"
   ]
  },
  {
   "cell_type": "markdown",
   "id": "fd9808c8-69c9-44cd-b5ad-08af7acb5ea3",
   "metadata": {},
   "source": [
    "# Find / Filter"
   ]
  },
  {
   "cell_type": "code",
   "execution_count": 65,
   "id": "258b82bc-5330-46d3-9af4-b8c8e10cc94b",
   "metadata": {},
   "outputs": [
    {
     "data": {
      "text/plain": [
       "array([[1, 2, 3],\n",
       "       [4, 5, 6],\n",
       "       [7, 1, 0]])"
      ]
     },
     "execution_count": 65,
     "metadata": {},
     "output_type": "execute_result"
    }
   ],
   "source": [
    "ar"
   ]
  },
  {
   "cell_type": "code",
   "execution_count": 66,
   "id": "3d19ff0d-43f0-400a-8d61-0821d95ce562",
   "metadata": {},
   "outputs": [
    {
     "data": {
      "text/plain": [
       "(array([1, 2]), array([2, 0]))"
      ]
     },
     "execution_count": 66,
     "metadata": {},
     "output_type": "execute_result"
    }
   ],
   "source": [
    "np.where(ar>5)"
   ]
  },
  {
   "cell_type": "code",
   "execution_count": 67,
   "id": "b6376b53-3168-42c8-aeac-c5f52cfddf2e",
   "metadata": {},
   "outputs": [
    {
     "data": {
      "text/plain": [
       "tuple"
      ]
     },
     "execution_count": 67,
     "metadata": {},
     "output_type": "execute_result"
    }
   ],
   "source": [
    "type(np.where(ar>5))"
   ]
  },
  {
   "cell_type": "code",
   "execution_count": 68,
   "id": "9809aea9-3e14-4c21-abb8-a9b00ac072b6",
   "metadata": {},
   "outputs": [
    {
     "data": {
      "text/plain": [
       "8"
      ]
     },
     "execution_count": 68,
     "metadata": {},
     "output_type": "execute_result"
    }
   ],
   "source": [
    "np.count_nonzero(ar)"
   ]
  },
  {
   "cell_type": "code",
   "execution_count": 69,
   "id": "dff826db-4c61-4c2b-915c-374fa75ba177",
   "metadata": {},
   "outputs": [
    {
     "data": {
      "text/plain": [
       "(array([0, 0, 0, 1, 1, 1, 2, 2]), array([0, 1, 2, 0, 1, 2, 0, 1]))"
      ]
     },
     "execution_count": 69,
     "metadata": {},
     "output_type": "execute_result"
    }
   ],
   "source": [
    "np.nonzero(ar)"
   ]
  },
  {
   "cell_type": "code",
   "execution_count": 70,
   "id": "79630931-2f8b-4444-b8bc-61e55e3269e5",
   "metadata": {},
   "outputs": [
    {
     "data": {
      "text/plain": [
       "(array([0, 0, 0, 1, 1, 2, 2]), array([0, 1, 2, 0, 1, 0, 1]))"
      ]
     },
     "execution_count": 70,
     "metadata": {},
     "output_type": "execute_result"
    }
   ],
   "source": [
    "ar[1, 2] = 0\n",
    "np.nonzero(ar)"
   ]
  },
  {
   "cell_type": "markdown",
   "id": "15b0f711-cfde-455c-be56-c20e3ac55b0e",
   "metadata": {},
   "source": [
    "it's give 'tuple' for every Dimension (for every axis)"
   ]
  },
  {
   "cell_type": "markdown",
   "id": "61488079-d52d-4b1a-866d-2421dad45989",
   "metadata": {},
   "source": [
    "# Memory Management\n",
    "### => numPy Array (take size in memory)"
   ]
  },
  {
   "cell_type": "code",
   "execution_count": 71,
   "id": "45c63004-2022-4416-a6db-6590e9470e8a",
   "metadata": {},
   "outputs": [],
   "source": [
    "import sys"
   ]
  },
  {
   "cell_type": "code",
   "execution_count": 72,
   "id": "bbd8411e-6008-4247-93ee-aa80d3650beb",
   "metadata": {},
   "outputs": [],
   "source": [
    "python_array = [0,4,55,2]"
   ]
  },
  {
   "cell_type": "code",
   "execution_count": 73,
   "id": "9db1f9e0-a87d-4c20-b545-87c4bca05846",
   "metadata": {},
   "outputs": [],
   "source": [
    "numPy_array = np.array(python_array)"
   ]
  },
  {
   "cell_type": "code",
   "execution_count": 74,
   "id": "7e8de6cc-0f52-4a31-ab04-cf7c4e47fc39",
   "metadata": {},
   "outputs": [
    {
     "data": {
      "text/plain": [
       "112"
      ]
     },
     "execution_count": 74,
     "metadata": {},
     "output_type": "execute_result"
    }
   ],
   "source": [
    "sys.getsizeof(1) * len(python_array)"
   ]
  },
  {
   "cell_type": "code",
   "execution_count": 75,
   "id": "a4723717-ccea-4460-8891-131072d8f824",
   "metadata": {},
   "outputs": [
    {
     "data": {
      "text/plain": [
       "32"
      ]
     },
     "execution_count": 75,
     "metadata": {},
     "output_type": "execute_result"
    }
   ],
   "source": [
    "numPy_array.itemsize * numPy_array.size"
   ]
  },
  {
   "cell_type": "markdown",
   "id": "cc1e91ab-ce8f-43fa-ba12-fa95f582d161",
   "metadata": {},
   "source": [
    "### Goohle shearch => numPy array methods & attributes"
   ]
  }
 ],
 "metadata": {
  "kernelspec": {
   "display_name": "Python 3 (ipykernel)",
   "language": "python",
   "name": "python3"
  },
  "language_info": {
   "codemirror_mode": {
    "name": "ipython",
    "version": 3
   },
   "file_extension": ".py",
   "mimetype": "text/x-python",
   "name": "python",
   "nbconvert_exporter": "python",
   "pygments_lexer": "ipython3",
   "version": "3.12.4"
  }
 },
 "nbformat": 4,
 "nbformat_minor": 5
}
